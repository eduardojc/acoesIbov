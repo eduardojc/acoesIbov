{
 "cells": [
  {
   "cell_type": "code",
   "execution_count": 23,
   "metadata": {},
   "outputs": [
    {
     "name": "stdout",
     "output_type": "stream",
     "text": [
      "Atualizando: \n",
      "\n",
      "BCFF11\n",
      "BRCR11\n",
      "HGRU11\n",
      "ENAT3\n",
      "ITSA4\n",
      "KNRI11\n",
      "MXRF11\n",
      "SAPR4\n",
      "TAEE4\n",
      "TIET4\n",
      "XPML11\n",
      "Arquivo Atualizado!\n"
     ]
    }
   ],
   "source": [
    "# Autor: Eduaro José Christofoletti\n",
    "# Data da Criação: 17/11/2020\n",
    "# Email: duh19rc@gmail.com\n",
    "\n",
    "from urllib.request import urlopen\n",
    "from datetime import datetime\n",
    "from pandas import DataFrame\n",
    "import json\n",
    "import os.path\n",
    "\n",
    "\n",
    "# array de ações a serem avaliadas\n",
    "aval = ['BCFF11','BRCR11','HGRU11','ENAT3','ITSA4','KNRI11','MXRF11','SAPR4','TAEE4','TIET4','XPML11']\n",
    "\n",
    "# inicia uma lista.    \n",
    "acao = []\n",
    "\n",
    "# percorrer as ações coletando os JSON's\n",
    "print(\"Atualizando: \\n\")\n",
    "for res in range(len(aval)):\n",
    "    url = urlopen('http://cotacao.b3.com.br/mds/api/v1/instrumentQuotation/'+aval[res])\n",
    "    result = url.read()\n",
    "    data = json.loads(result)\n",
    "    \n",
    "    if(data['BizSts']['cd'] == 'OK'):\n",
    "        # Ramos do JSON a serem analisados.\n",
    "        ramo1 = data['Trad'][0]['scty']\n",
    "        ramo2 = ramo1['SctyQtn']\n",
    "        print(ramo1['symb'])\n",
    "    # Verifica se tem cotação para a ação selecionada\n",
    "\n",
    "        \n",
    "        # Pega a data do DIC do JSON da ação.\n",
    "        dia = data['Msg']['dtTm']\n",
    "        # Converter str em data e mudar o formato para Brasileiro\n",
    "        dia = datetime.strptime(dia, \"%Y-%m-%d %H:%M:%S\").strftime('%d/%m/%Y %H:%M:%S')\n",
    "        \n",
    "        # Percorrer o DIC e atribuir as variáveis:\n",
    "        # name = Nome da Ação, minPr = Preço Min\n",
    "        # maxPr = Preço Max, avrPr = Preço Médio\n",
    "        # curPr = Preço Atual\n",
    "        name = ramo1['symb'] \n",
    "        minPr = ramo2['minPric']\n",
    "        maxPr = ramo2['maxPric']\n",
    "        avrPr = ramo2['avrgPric']\n",
    "        curPr = ramo2['curPrc']\n",
    "        \n",
    "        #depois do loop adiciona a busca ao array de 'acao' pelo método append\n",
    "        acao.append([dia,name,minPr,maxPr,avrPr,curPr])\n",
    "        \n",
    "## Transformamos os dados em um DATAFRAME para inserir o Header\n",
    "## Em Seguida verificamos se o Arquivo analise.txt Existe,\n",
    "## Se não existir ele cria um nova arquivo com as cotações \"hora atual\"\n",
    "## Caso existir ele atualiza o arquivo com as cotações da \"hora atual\"\n",
    "\n",
    "df = DataFrame(acao,columns=['Data','Acao','Min','Max','Med','Atual'])\n",
    "file = 'D:\\\\Analise\\\\analise.csv' #caminho onde será salvo o arquivo.\n",
    "\n",
    "print('\\n')\n",
    "if os.path.isfile(file):\n",
    "    # Abre o arquivo e salva em TXT\n",
    "    df.to_csv(file, header=None, index=None, sep=',', mode='a')\n",
    "    print(\"Arquivo Atualizado!\")\n",
    "else: \n",
    "    df.to_csv(file, header=True, index=None, sep=',', mode='w+')\n",
    "    print(\"Arquivo Criado!\")\n",
    "\n",
    "\n"
   ]
  },
  {
   "cell_type": "code",
   "execution_count": null,
   "metadata": {},
   "outputs": [],
   "source": []
  }
 ],
 "metadata": {
  "kernelspec": {
   "display_name": "Python 3",
   "language": "python",
   "name": "python3"
  },
  "language_info": {
   "codemirror_mode": {
    "name": "ipython",
    "version": 3
   },
   "file_extension": ".py",
   "mimetype": "text/x-python",
   "name": "python",
   "nbconvert_exporter": "python",
   "pygments_lexer": "ipython3",
   "version": "3.7.3"
  }
 },
 "nbformat": 4,
 "nbformat_minor": 4
}
